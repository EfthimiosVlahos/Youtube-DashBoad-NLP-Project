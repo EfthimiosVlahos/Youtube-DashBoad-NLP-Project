{
  "cells": [
    {
      "attachments": {},
      "cell_type": "markdown",
      "metadata": {
        "colab_type": "text",
        "id": "view-in-github"
      },
      "source": [
        "<a href=\"https://colab.research.google.com/github/Thomas-George-T/Streamlit-YouTube-Dashboard/blob/main/YouTube_EDA_%26_Sentimental_Analysis.ipynb\" target=\"_parent\"><img src=\"https://colab.research.google.com/assets/colab-badge.svg\" alt=\"Open In Colab\"/></a>"
      ]
    },
    {
      "attachments": {},
      "cell_type": "markdown",
      "metadata": {
        "id": "oyWNPLCREeBm"
      },
      "source": [
        "# YouTube NLP"
      ]
    },
    {
      "attachments": {},
      "cell_type": "markdown",
      "metadata": {
        "id": "wyBnA3NgEi0W"
      },
      "source": [
        "## Ingesting Comments from the YouTube Video"
      ]
    },
    {
      "cell_type": "code",
      "execution_count": 1,
      "metadata": {
        "id": "ub2kJ5eEF0xF"
      },
      "outputs": [],
      "source": [
        "api_key = ''"
      ]
    },
    {
      "cell_type": "code",
      "execution_count": 2,
      "metadata": {
        "id": "bcsli4zgbOaK"
      },
      "outputs": [],
      "source": [
        "from googleapiclient.discovery import build\n",
        "\n",
        "# The string after v=? in the url\n",
        "video_id = \"Il0S8BoucSA\"\n",
        "\n",
        "# creating youtube resource object\n",
        "youtube = build('youtube', 'v3',\n",
        "developerKey=api_key)\n",
        "\n",
        "# retrieve youtube video results\n",
        "video_response=youtube.commentThreads().list(\n",
        "  part='snippet',\n",
        "  maxResults=200,\n",
        "  order='relevance',\n",
        "  videoId=video_id\n",
        ").execute()"
      ]
    },
    {
      "attachments": {},
      "cell_type": "markdown",
      "metadata": {
        "id": "yq7-bNkVEu8f"
      },
      "source": [
        "## Data Preprocessing"
      ]
    },
    {
      "attachments": {},
      "cell_type": "markdown",
      "metadata": {
        "id": "9d3Gu80DEzxz"
      },
      "source": [
        "### Data Wrangling"
      ]
    },
    {
      "attachments": {},
      "cell_type": "markdown",
      "metadata": {
        "id": "y5znsobSE77W"
      },
      "source": [
        "#### Assumptions\n",
        "\n",
        "\n",
        "*   Picking only the comment made by the original author\n",
        "  *   Comment Threads on the Original Authors comment could be diverging from the video\n",
        "  *   Limiting Response to about 10 for testing\n",
        "\n",
        "*   Using the 'textOriginal' instead of 'textDisplay' for easier cleanup of the comment\n",
        "\n",
        "\n",
        "*   Analyzing only English Comments \n",
        "  *   Storing the number of non English comments for metrics\n",
        "\n",
        "\n",
        "\n",
        "\n",
        "\n",
        "\n"
      ]
    },
    {
      "cell_type": "code",
      "execution_count": 3,
      "metadata": {
        "id": "B3ZHIuZD-60O"
      },
      "outputs": [],
      "source": [
        "# empty list for storing reply\n",
        "comments = []\n",
        "\n",
        "# extracting required info from each result object\n",
        "for item in video_response['items']:\n",
        "\n",
        "  # Extracting comments\n",
        "  comment = item['snippet']['topLevelComment']['snippet']['textOriginal']\n",
        "  # Extracting author\n",
        "  author = item['snippet']['topLevelComment']['snippet']['authorDisplayName']\n",
        "  # Extracting published time\n",
        "  published_at = item['snippet']['topLevelComment']['snippet']['publishedAt']\n",
        "  # Extracting likes\n",
        "  like_count = item['snippet']['topLevelComment']['snippet']['likeCount']\n",
        "  # Extracting total replies to the comment\n",
        "  reply_count = item['snippet']['totalReplyCount']\n",
        "\n",
        "  comments.append([author, comment, published_at, like_count, reply_count])"
      ]
    },
    {
      "cell_type": "code",
      "execution_count": 4,
      "metadata": {
        "colab": {
          "base_uri": "https://localhost:8080/"
        },
        "id": "kLpwGkbKnxLK",
        "outputId": "83c44908-3b6f-4267-c6f6-1f10c020b186"
      },
      "outputs": [
        {
          "data": {
            "text/plain": [
              "100"
            ]
          },
          "execution_count": 4,
          "metadata": {},
          "output_type": "execute_result"
        }
      ],
      "source": [
        "len(comments)"
      ]
    },
    {
      "attachments": {},
      "cell_type": "markdown",
      "metadata": {
        "id": "flW-8n5agfDg"
      },
      "source": [
        "Test with Pandas"
      ]
    },
    {
      "cell_type": "code",
      "execution_count": 5,
      "metadata": {
        "colab": {
          "base_uri": "https://localhost:8080/"
        },
        "id": "DBjTDTtyAdZv",
        "outputId": "ec51d83a-6663-4992-8481-f5baddc4e1f9"
      },
      "outputs": [
        {
          "data": {
            "text/plain": [
              "[['Savita Pathak',\n",
              "  'How can Ed always give us a masterpiece?? \\nI literally heard it more than 50 times.',\n",
              "  '2021-09-15T07:58:19Z',\n",
              "  219,\n",
              "  4],\n",
              " ['ELECTRO CENTRAL MUSIC',\n",
              "  'Uma das melhores músicas dos últimos anos. Que ritmo senacional!',\n",
              "  '2023-08-10T01:34:51Z',\n",
              "  35,\n",
              "  0],\n",
              " ['Roblox girls',\n",
              "  'i love this song huge fan of it thanks for making it me and my friends dance to it all the time!😸😸😺',\n",
              "  '2023-10-03T21:25:45Z',\n",
              "  1,\n",
              "  0],\n",
              " ['NB Musica En Ingles',\n",
              "  '*Como não tem mais reconhecimento esta grande música?*',\n",
              "  '2023-08-18T17:31:19Z',\n",
              "  43,\n",
              "  0],\n",
              " ['Bruna de Jesus',\n",
              "  'Amando essa música!!!!!!!!!!!!🤩🤩🥰🥰',\n",
              "  '2023-09-03T05:34:13Z',\n",
              "  10,\n",
              "  0]]"
            ]
          },
          "execution_count": 5,
          "metadata": {},
          "output_type": "execute_result"
        }
      ],
      "source": [
        "comments[0:5]"
      ]
    },
    {
      "attachments": {},
      "cell_type": "markdown",
      "metadata": {
        "id": "L0AzgXPqId-h"
      },
      "source": [
        "### NLP"
      ]
    },
    {
      "attachments": {},
      "cell_type": "markdown",
      "metadata": {
        "id": "S8uoCx8SMzCi"
      },
      "source": [
        "#### Install Libraries"
      ]
    },
    {
      "cell_type": "code",
      "execution_count": 6,
      "metadata": {
        "colab": {
          "base_uri": "https://localhost:8080/"
        },
        "id": "s9vNdtwZQH1q",
        "outputId": "ace86137-65a3-4f4a-f564-66fcca54d98b"
      },
      "outputs": [
        {
          "name": "stdout",
          "output_type": "stream",
          "text": [
            "Requirement already satisfied: Unidecode in ./.venv/lib/python3.10/site-packages (1.3.6)\n",
            "Note: you may need to restart the kernel to use updated packages.\n"
          ]
        }
      ],
      "source": [
        "pip install Unidecode"
      ]
    },
    {
      "cell_type": "code",
      "execution_count": 7,
      "metadata": {
        "colab": {
          "base_uri": "https://localhost:8080/"
        },
        "id": "REkYtE-yBLka",
        "outputId": "d563c12f-c9b3-4990-b07e-6deeed930657"
      },
      "outputs": [
        {
          "name": "stdout",
          "output_type": "stream",
          "text": [
            "Requirement already satisfied: langdetect in ./.venv/lib/python3.10/site-packages (1.0.9)\n",
            "Requirement already satisfied: six in ./.venv/lib/python3.10/site-packages (from langdetect) (1.16.0)\n",
            "Note: you may need to restart the kernel to use updated packages.\n"
          ]
        }
      ],
      "source": [
        "pip install langdetect"
      ]
    },
    {
      "cell_type": "code",
      "execution_count": 8,
      "metadata": {
        "colab": {
          "base_uri": "https://localhost:8080/"
        },
        "id": "NNQ4fQN7thuK",
        "outputId": "d017abdc-a4df-4a99-be92-f422b054d4ca"
      },
      "outputs": [
        {
          "name": "stdout",
          "output_type": "stream",
          "text": [
            "Requirement already satisfied: pycountry in ./.venv/lib/python3.10/site-packages (22.3.5)\n",
            "Requirement already satisfied: setuptools in ./.venv/lib/python3.10/site-packages (from pycountry) (58.1.0)\n",
            "Note: you may need to restart the kernel to use updated packages.\n"
          ]
        }
      ],
      "source": [
        "pip install pycountry"
      ]
    },
    {
      "cell_type": "code",
      "execution_count": 9,
      "metadata": {
        "colab": {
          "base_uri": "https://localhost:8080/"
        },
        "id": "ohOw66wPNnw3",
        "outputId": "6419d643-2c9a-4451-cbeb-eecdfa2bcfcf"
      },
      "outputs": [
        {
          "name": "stdout",
          "output_type": "stream",
          "text": [
            "Requirement already satisfied: clean-text in ./.venv/lib/python3.10/site-packages (0.6.0)\n",
            "Requirement already satisfied: emoji<2.0.0,>=1.0.0 in ./.venv/lib/python3.10/site-packages (from clean-text) (1.7.0)\n",
            "Requirement already satisfied: ftfy<7.0,>=6.0 in ./.venv/lib/python3.10/site-packages (from clean-text) (6.1.1)\n",
            "Requirement already satisfied: wcwidth>=0.2.5 in ./.venv/lib/python3.10/site-packages (from ftfy<7.0,>=6.0->clean-text) (0.2.8)\n",
            "Note: you may need to restart the kernel to use updated packages.\n"
          ]
        }
      ],
      "source": [
        "pip install clean-text"
      ]
    },
    {
      "attachments": {},
      "cell_type": "markdown",
      "metadata": {
        "id": "BtgMRdJeM9ad"
      },
      "source": [
        "#### Text Processing"
      ]
    },
    {
      "cell_type": "code",
      "execution_count": 10,
      "metadata": {
        "colab": {
          "base_uri": "https://localhost:8080/"
        },
        "id": "8i-_5XcnfNmE",
        "outputId": "3f7c0b07-c41b-4d88-93a9-a9a274c6c455"
      },
      "outputs": [
        {
          "data": {
            "text/plain": [
              "100"
            ]
          },
          "execution_count": 10,
          "metadata": {},
          "output_type": "execute_result"
        }
      ],
      "source": [
        "len(comments)"
      ]
    },
    {
      "cell_type": "code",
      "execution_count": 11,
      "metadata": {
        "id": "KcgTLGYPP3MB"
      },
      "outputs": [],
      "source": [
        "import pandas as pd\n",
        "df = pd.DataFrame({'Author': [i[0] for i in comments], 'Comment': [i[1] for i in comments], 'Timestamp': [i[2] for i in comments],\n",
        "                  'Likes': [i[3] for i in comments], 'TotalReplies': [i[4] for i in comments]})"
      ]
    },
    {
      "cell_type": "code",
      "execution_count": 12,
      "metadata": {
        "colab": {
          "base_uri": "https://localhost:8080/",
          "height": 206
        },
        "id": "azQkTYxcQoGR",
        "outputId": "45e9c276-3d90-4d69-84d3-551ccbac0b39"
      },
      "outputs": [
        {
          "data": {
            "text/html": [
              "<div>\n",
              "<style scoped>\n",
              "    .dataframe tbody tr th:only-of-type {\n",
              "        vertical-align: middle;\n",
              "    }\n",
              "\n",
              "    .dataframe tbody tr th {\n",
              "        vertical-align: top;\n",
              "    }\n",
              "\n",
              "    .dataframe thead th {\n",
              "        text-align: right;\n",
              "    }\n",
              "</style>\n",
              "<table border=\"1\" class=\"dataframe\">\n",
              "  <thead>\n",
              "    <tr style=\"text-align: right;\">\n",
              "      <th></th>\n",
              "      <th>Author</th>\n",
              "      <th>Comment</th>\n",
              "      <th>Timestamp</th>\n",
              "      <th>Likes</th>\n",
              "      <th>TotalReplies</th>\n",
              "    </tr>\n",
              "  </thead>\n",
              "  <tbody>\n",
              "    <tr>\n",
              "      <th>0</th>\n",
              "      <td>Savita Pathak</td>\n",
              "      <td>How can Ed always give us a masterpiece?? \\nI ...</td>\n",
              "      <td>2021-09-15T07:58:19Z</td>\n",
              "      <td>219</td>\n",
              "      <td>4</td>\n",
              "    </tr>\n",
              "    <tr>\n",
              "      <th>1</th>\n",
              "      <td>ELECTRO CENTRAL MUSIC</td>\n",
              "      <td>Uma das melhores músicas dos últimos anos. Que...</td>\n",
              "      <td>2023-08-10T01:34:51Z</td>\n",
              "      <td>35</td>\n",
              "      <td>0</td>\n",
              "    </tr>\n",
              "    <tr>\n",
              "      <th>2</th>\n",
              "      <td>Roblox girls</td>\n",
              "      <td>i love this song huge fan of it thanks for mak...</td>\n",
              "      <td>2023-10-03T21:25:45Z</td>\n",
              "      <td>1</td>\n",
              "      <td>0</td>\n",
              "    </tr>\n",
              "    <tr>\n",
              "      <th>3</th>\n",
              "      <td>NB Musica En Ingles</td>\n",
              "      <td>*Como não tem mais reconhecimento esta grande ...</td>\n",
              "      <td>2023-08-18T17:31:19Z</td>\n",
              "      <td>43</td>\n",
              "      <td>0</td>\n",
              "    </tr>\n",
              "    <tr>\n",
              "      <th>4</th>\n",
              "      <td>Bruna de Jesus</td>\n",
              "      <td>Amando essa música!!!!!!!!!!!!🤩🤩🥰🥰</td>\n",
              "      <td>2023-09-03T05:34:13Z</td>\n",
              "      <td>10</td>\n",
              "      <td>0</td>\n",
              "    </tr>\n",
              "  </tbody>\n",
              "</table>\n",
              "</div>"
            ],
            "text/plain": [
              "                  Author                                            Comment  \\\n",
              "0          Savita Pathak  How can Ed always give us a masterpiece?? \\nI ...   \n",
              "1  ELECTRO CENTRAL MUSIC  Uma das melhores músicas dos últimos anos. Que...   \n",
              "2           Roblox girls  i love this song huge fan of it thanks for mak...   \n",
              "3    NB Musica En Ingles  *Como não tem mais reconhecimento esta grande ...   \n",
              "4         Bruna de Jesus                 Amando essa música!!!!!!!!!!!!🤩🤩🥰🥰   \n",
              "\n",
              "              Timestamp  Likes  TotalReplies  \n",
              "0  2021-09-15T07:58:19Z    219             4  \n",
              "1  2023-08-10T01:34:51Z     35             0  \n",
              "2  2023-10-03T21:25:45Z      1             0  \n",
              "3  2023-08-18T17:31:19Z     43             0  \n",
              "4  2023-09-03T05:34:13Z     10             0  "
            ]
          },
          "execution_count": 12,
          "metadata": {},
          "output_type": "execute_result"
        }
      ],
      "source": [
        "df.head()"
      ]
    },
    {
      "cell_type": "code",
      "execution_count": 13,
      "metadata": {
        "colab": {
          "base_uri": "https://localhost:8080/",
          "height": 206
        },
        "id": "wtD45aw7BLiW",
        "outputId": "a7956f9c-8a31-477b-f3e5-0513c7978bcc"
      },
      "outputs": [
        {
          "data": {
            "text/html": [
              "<div>\n",
              "<style scoped>\n",
              "    .dataframe tbody tr th:only-of-type {\n",
              "        vertical-align: middle;\n",
              "    }\n",
              "\n",
              "    .dataframe tbody tr th {\n",
              "        vertical-align: top;\n",
              "    }\n",
              "\n",
              "    .dataframe thead th {\n",
              "        text-align: right;\n",
              "    }\n",
              "</style>\n",
              "<table border=\"1\" class=\"dataframe\">\n",
              "  <thead>\n",
              "    <tr style=\"text-align: right;\">\n",
              "      <th></th>\n",
              "      <th>Author</th>\n",
              "      <th>Comment</th>\n",
              "      <th>Timestamp</th>\n",
              "      <th>Likes</th>\n",
              "      <th>TotalReplies</th>\n",
              "    </tr>\n",
              "  </thead>\n",
              "  <tbody>\n",
              "    <tr>\n",
              "      <th>0</th>\n",
              "      <td>Savita Pathak</td>\n",
              "      <td>how can ed always give us a masterpiece i lite...</td>\n",
              "      <td>2021-09-15T07:58:19Z</td>\n",
              "      <td>219</td>\n",
              "      <td>4</td>\n",
              "    </tr>\n",
              "    <tr>\n",
              "      <th>1</th>\n",
              "      <td>ELECTRO CENTRAL MUSIC</td>\n",
              "      <td>uma das melhores musicas dos ultimos anos que ...</td>\n",
              "      <td>2023-08-10T01:34:51Z</td>\n",
              "      <td>35</td>\n",
              "      <td>0</td>\n",
              "    </tr>\n",
              "    <tr>\n",
              "      <th>2</th>\n",
              "      <td>Roblox girls</td>\n",
              "      <td>i love this song huge fan of it thanks for mak...</td>\n",
              "      <td>2023-10-03T21:25:45Z</td>\n",
              "      <td>1</td>\n",
              "      <td>0</td>\n",
              "    </tr>\n",
              "    <tr>\n",
              "      <th>3</th>\n",
              "      <td>NB Musica En Ingles</td>\n",
              "      <td>como nao tem mais reconhecimento esta grande m...</td>\n",
              "      <td>2023-08-18T17:31:19Z</td>\n",
              "      <td>43</td>\n",
              "      <td>0</td>\n",
              "    </tr>\n",
              "    <tr>\n",
              "      <th>4</th>\n",
              "      <td>Bruna de Jesus</td>\n",
              "      <td>amando essa musica</td>\n",
              "      <td>2023-09-03T05:34:13Z</td>\n",
              "      <td>10</td>\n",
              "      <td>0</td>\n",
              "    </tr>\n",
              "  </tbody>\n",
              "</table>\n",
              "</div>"
            ],
            "text/plain": [
              "                  Author                                            Comment  \\\n",
              "0          Savita Pathak  how can ed always give us a masterpiece i lite...   \n",
              "1  ELECTRO CENTRAL MUSIC  uma das melhores musicas dos ultimos anos que ...   \n",
              "2           Roblox girls  i love this song huge fan of it thanks for mak...   \n",
              "3    NB Musica En Ingles  como nao tem mais reconhecimento esta grande m...   \n",
              "4         Bruna de Jesus                                 amando essa musica   \n",
              "\n",
              "              Timestamp  Likes  TotalReplies  \n",
              "0  2021-09-15T07:58:19Z    219             4  \n",
              "1  2023-08-10T01:34:51Z     35             0  \n",
              "2  2023-10-03T21:25:45Z      1             0  \n",
              "3  2023-08-18T17:31:19Z     43             0  \n",
              "4  2023-09-03T05:34:13Z     10             0  "
            ]
          },
          "execution_count": 13,
          "metadata": {},
          "output_type": "execute_result"
        }
      ],
      "source": [
        "from cleantext import clean\n",
        "\n",
        "# Remove extra spaces and make them lower case. Replace special emojis\n",
        "clean_df = df\n",
        "clean_df['Comment'] = clean_df['Comment'].apply(lambda x: x.strip().lower().replace('xd','').replace('<3',''))\n",
        "\n",
        "# Clean text from line breaks, unicodes, emojis and punctuations\n",
        "clean_df['Comment'] = clean_df['Comment'].apply(lambda x: clean(x, no_emoji=True, no_punct=True, no_line_breaks=True, fix_unicode=True))\n",
        "clean_df.head()"
      ]
    },
    {
      "cell_type": "code",
      "execution_count": 14,
      "metadata": {
        "colab": {
          "base_uri": "https://localhost:8080/",
          "height": 225
        },
        "id": "5mH3BMbRor1R",
        "outputId": "ad3a5521-aba6-433f-d023-7c23cd959b31"
      },
      "outputs": [
        {
          "data": {
            "text/plain": [
              "0     how can ed always give us a masterpiece i lite...\n",
              "1     uma das melhores musicas dos ultimos anos que ...\n",
              "2     i love this song huge fan of it thanks for mak...\n",
              "3     como nao tem mais reconhecimento esta grande m...\n",
              "4                                    amando essa musica\n",
              "                            ...                        \n",
              "95    ed is amazing person just happy that we can se...\n",
              "96                                            very good\n",
              "97    a message for future generations dont let this...\n",
              "98                    fun fact this song never gets old\n",
              "99                                          spectacular\n",
              "Name: Comment, Length: 100, dtype: object"
            ]
          },
          "metadata": {},
          "output_type": "display_data"
        }
      ],
      "source": [
        "display(clean_df['Comment'])"
      ]
    },
    {
      "cell_type": "code",
      "execution_count": 15,
      "metadata": {
        "id": "1bnz6bL4UTxR"
      },
      "outputs": [],
      "source": [
        "from langdetect import detect, LangDetectException\n",
        "def det_lang(language):\n",
        "    \"\"\" Function to detect language\n",
        "    Args:\n",
        "        Language column from the dataframe\n",
        "    Returns:\n",
        "        Detected Language or Other\n",
        "    \"\"\"\n",
        "    try:\n",
        "        lang = detect(language)\n",
        "    except LangDetectException:\n",
        "        lang = 'Other'\n",
        "    return lang"
      ]
    },
    {
      "cell_type": "code",
      "execution_count": 16,
      "metadata": {
        "colab": {
          "base_uri": "https://localhost:8080/",
          "height": 206
        },
        "id": "pjeWOlFuMyAm",
        "outputId": "af9afb19-a9c4-4b78-e09e-8e4f9338e93f"
      },
      "outputs": [
        {
          "data": {
            "text/html": [
              "<div>\n",
              "<style scoped>\n",
              "    .dataframe tbody tr th:only-of-type {\n",
              "        vertical-align: middle;\n",
              "    }\n",
              "\n",
              "    .dataframe tbody tr th {\n",
              "        vertical-align: top;\n",
              "    }\n",
              "\n",
              "    .dataframe thead th {\n",
              "        text-align: right;\n",
              "    }\n",
              "</style>\n",
              "<table border=\"1\" class=\"dataframe\">\n",
              "  <thead>\n",
              "    <tr style=\"text-align: right;\">\n",
              "      <th></th>\n",
              "      <th>Author</th>\n",
              "      <th>Comment</th>\n",
              "      <th>Timestamp</th>\n",
              "      <th>Likes</th>\n",
              "      <th>TotalReplies</th>\n",
              "      <th>Language</th>\n",
              "    </tr>\n",
              "  </thead>\n",
              "  <tbody>\n",
              "    <tr>\n",
              "      <th>0</th>\n",
              "      <td>Savita Pathak</td>\n",
              "      <td>how can ed always give us a masterpiece i lite...</td>\n",
              "      <td>2021-09-15T07:58:19Z</td>\n",
              "      <td>219</td>\n",
              "      <td>4</td>\n",
              "      <td>en</td>\n",
              "    </tr>\n",
              "    <tr>\n",
              "      <th>1</th>\n",
              "      <td>ELECTRO CENTRAL MUSIC</td>\n",
              "      <td>uma das melhores musicas dos ultimos anos que ...</td>\n",
              "      <td>2023-08-10T01:34:51Z</td>\n",
              "      <td>35</td>\n",
              "      <td>0</td>\n",
              "      <td>pt</td>\n",
              "    </tr>\n",
              "    <tr>\n",
              "      <th>2</th>\n",
              "      <td>Roblox girls</td>\n",
              "      <td>i love this song huge fan of it thanks for mak...</td>\n",
              "      <td>2023-10-03T21:25:45Z</td>\n",
              "      <td>1</td>\n",
              "      <td>0</td>\n",
              "      <td>en</td>\n",
              "    </tr>\n",
              "    <tr>\n",
              "      <th>3</th>\n",
              "      <td>NB Musica En Ingles</td>\n",
              "      <td>como nao tem mais reconhecimento esta grande m...</td>\n",
              "      <td>2023-08-18T17:31:19Z</td>\n",
              "      <td>43</td>\n",
              "      <td>0</td>\n",
              "      <td>pt</td>\n",
              "    </tr>\n",
              "    <tr>\n",
              "      <th>4</th>\n",
              "      <td>Bruna de Jesus</td>\n",
              "      <td>amando essa musica</td>\n",
              "      <td>2023-09-03T05:34:13Z</td>\n",
              "      <td>10</td>\n",
              "      <td>0</td>\n",
              "      <td>pt</td>\n",
              "    </tr>\n",
              "  </tbody>\n",
              "</table>\n",
              "</div>"
            ],
            "text/plain": [
              "                  Author                                            Comment  \\\n",
              "0          Savita Pathak  how can ed always give us a masterpiece i lite...   \n",
              "1  ELECTRO CENTRAL MUSIC  uma das melhores musicas dos ultimos anos que ...   \n",
              "2           Roblox girls  i love this song huge fan of it thanks for mak...   \n",
              "3    NB Musica En Ingles  como nao tem mais reconhecimento esta grande m...   \n",
              "4         Bruna de Jesus                                 amando essa musica   \n",
              "\n",
              "              Timestamp  Likes  TotalReplies Language  \n",
              "0  2021-09-15T07:58:19Z    219             4       en  \n",
              "1  2023-08-10T01:34:51Z     35             0       pt  \n",
              "2  2023-10-03T21:25:45Z      1             0       en  \n",
              "3  2023-08-18T17:31:19Z     43             0       pt  \n",
              "4  2023-09-03T05:34:13Z     10             0       pt  "
            ]
          },
          "execution_count": 16,
          "metadata": {},
          "output_type": "execute_result"
        }
      ],
      "source": [
        "clean_df['Language'] = clean_df['Comment'].apply(det_lang)\n",
        "clean_df.head()"
      ]
    },
    {
      "cell_type": "code",
      "execution_count": 17,
      "metadata": {
        "colab": {
          "base_uri": "https://localhost:8080/",
          "height": 206
        },
        "id": "EotEzuxJt5Zi",
        "outputId": "29c22309-29b8-46b1-ce7a-265081c5ab3e"
      },
      "outputs": [
        {
          "data": {
            "text/html": [
              "<div>\n",
              "<style scoped>\n",
              "    .dataframe tbody tr th:only-of-type {\n",
              "        vertical-align: middle;\n",
              "    }\n",
              "\n",
              "    .dataframe tbody tr th {\n",
              "        vertical-align: top;\n",
              "    }\n",
              "\n",
              "    .dataframe thead th {\n",
              "        text-align: right;\n",
              "    }\n",
              "</style>\n",
              "<table border=\"1\" class=\"dataframe\">\n",
              "  <thead>\n",
              "    <tr style=\"text-align: right;\">\n",
              "      <th></th>\n",
              "      <th>Author</th>\n",
              "      <th>Comment</th>\n",
              "      <th>Timestamp</th>\n",
              "      <th>Likes</th>\n",
              "      <th>TotalReplies</th>\n",
              "      <th>Language</th>\n",
              "    </tr>\n",
              "  </thead>\n",
              "  <tbody>\n",
              "    <tr>\n",
              "      <th>0</th>\n",
              "      <td>Savita Pathak</td>\n",
              "      <td>how can ed always give us a masterpiece i lite...</td>\n",
              "      <td>2021-09-15T07:58:19Z</td>\n",
              "      <td>219</td>\n",
              "      <td>4</td>\n",
              "      <td>English</td>\n",
              "    </tr>\n",
              "    <tr>\n",
              "      <th>1</th>\n",
              "      <td>ELECTRO CENTRAL MUSIC</td>\n",
              "      <td>uma das melhores musicas dos ultimos anos que ...</td>\n",
              "      <td>2023-08-10T01:34:51Z</td>\n",
              "      <td>35</td>\n",
              "      <td>0</td>\n",
              "      <td>Portuguese</td>\n",
              "    </tr>\n",
              "    <tr>\n",
              "      <th>2</th>\n",
              "      <td>Roblox girls</td>\n",
              "      <td>i love this song huge fan of it thanks for mak...</td>\n",
              "      <td>2023-10-03T21:25:45Z</td>\n",
              "      <td>1</td>\n",
              "      <td>0</td>\n",
              "      <td>English</td>\n",
              "    </tr>\n",
              "    <tr>\n",
              "      <th>3</th>\n",
              "      <td>NB Musica En Ingles</td>\n",
              "      <td>como nao tem mais reconhecimento esta grande m...</td>\n",
              "      <td>2023-08-18T17:31:19Z</td>\n",
              "      <td>43</td>\n",
              "      <td>0</td>\n",
              "      <td>Portuguese</td>\n",
              "    </tr>\n",
              "    <tr>\n",
              "      <th>4</th>\n",
              "      <td>Bruna de Jesus</td>\n",
              "      <td>amando essa musica</td>\n",
              "      <td>2023-09-03T05:34:13Z</td>\n",
              "      <td>10</td>\n",
              "      <td>0</td>\n",
              "      <td>Portuguese</td>\n",
              "    </tr>\n",
              "  </tbody>\n",
              "</table>\n",
              "</div>"
            ],
            "text/plain": [
              "                  Author                                            Comment  \\\n",
              "0          Savita Pathak  how can ed always give us a masterpiece i lite...   \n",
              "1  ELECTRO CENTRAL MUSIC  uma das melhores musicas dos ultimos anos que ...   \n",
              "2           Roblox girls  i love this song huge fan of it thanks for mak...   \n",
              "3    NB Musica En Ingles  como nao tem mais reconhecimento esta grande m...   \n",
              "4         Bruna de Jesus                                 amando essa musica   \n",
              "\n",
              "              Timestamp  Likes  TotalReplies    Language  \n",
              "0  2021-09-15T07:58:19Z    219             4     English  \n",
              "1  2023-08-10T01:34:51Z     35             0  Portuguese  \n",
              "2  2023-10-03T21:25:45Z      1             0     English  \n",
              "3  2023-08-18T17:31:19Z     43             0  Portuguese  \n",
              "4  2023-09-03T05:34:13Z     10             0  Portuguese  "
            ]
          },
          "execution_count": 17,
          "metadata": {},
          "output_type": "execute_result"
        }
      ],
      "source": [
        "import pycountry\n",
        "# Convert ISO country codes to Languages\n",
        "clean_df['Language'] = clean_df['Language'].apply(lambda x: pycountry.languages.get(alpha_2=x).name if(x) != 'Other' else 'Not-Detected')\n",
        "clean_df.head()"
      ]
    },
    {
      "cell_type": "code",
      "execution_count": 18,
      "metadata": {
        "colab": {
          "base_uri": "https://localhost:8080/"
        },
        "id": "2AI6zp8LdhbY",
        "outputId": "8f9eeecb-8f46-4b92-fcac-afbef0ebcf1b"
      },
      "outputs": [
        {
          "data": {
            "text/plain": [
              "Author          100\n",
              "Comment         100\n",
              "Timestamp       100\n",
              "Likes           100\n",
              "TotalReplies    100\n",
              "Language        100\n",
              "dtype: int64"
            ]
          },
          "execution_count": 18,
          "metadata": {},
          "output_type": "execute_result"
        }
      ],
      "source": [
        "clean_df.count()"
      ]
    },
    {
      "cell_type": "code",
      "execution_count": 19,
      "metadata": {
        "id": "EPnwMRjx11-B"
      },
      "outputs": [],
      "source": [
        "clean_df.drop(clean_df[clean_df['Language'] == 'Not-Detected'].index, inplace = True)"
      ]
    },
    {
      "attachments": {},
      "cell_type": "markdown",
      "metadata": {
        "id": "2gfluMSUrmHg"
      },
      "source": [
        "## Text Blob\n"
      ]
    },
    {
      "cell_type": "code",
      "execution_count": 20,
      "metadata": {
        "colab": {
          "base_uri": "https://localhost:8080/"
        },
        "id": "W02RT8cDrluz",
        "outputId": "8d9ef2bc-adf4-4f65-8057-251e90c105ce"
      },
      "outputs": [
        {
          "name": "stderr",
          "output_type": "stream",
          "text": [
            "/var/folders/qf/9lg8vbt12270lh6bbvv2t0940000gn/T/ipykernel_89637/1530850154.py:10: SettingWithCopyWarning: \n",
            "A value is trying to be set on a copy of a slice from a DataFrame.\n",
            "Try using .loc[row_indexer,col_indexer] = value instead\n",
            "\n",
            "See the caveats in the documentation: https://pandas.pydata.org/pandas-docs/stable/user_guide/indexing.html#returning-a-view-versus-a-copy\n",
            "  textBlob['TextBlob_Polarity'] = textBlob['Comment'].apply(get_polarity)\n"
          ]
        }
      ],
      "source": [
        "from nltk.sentiment.util import *\n",
        "from textblob import TextBlob\n",
        "from nltk import tokenize\n",
        "# New variable for TextBlob approach\n",
        "textBlob = clean_df.loc[clean_df['Language']=='English']\n",
        "\n",
        "def get_polarity(text):\n",
        "  return TextBlob(text).sentiment.polarity\n",
        "\n",
        "textBlob['TextBlob_Polarity'] = textBlob['Comment'].apply(get_polarity)"
      ]
    },
    {
      "cell_type": "code",
      "execution_count": 21,
      "metadata": {
        "colab": {
          "base_uri": "https://localhost:8080/"
        },
        "id": "i8qD9fHXszkA",
        "outputId": "0254078c-edd0-4cde-b6e0-24bfda73be05"
      },
      "outputs": [
        {
          "name": "stderr",
          "output_type": "stream",
          "text": [
            "/var/folders/qf/9lg8vbt12270lh6bbvv2t0940000gn/T/ipykernel_89637/2719581564.py:1: SettingWithCopyWarning: \n",
            "A value is trying to be set on a copy of a slice from a DataFrame.\n",
            "Try using .loc[row_indexer,col_indexer] = value instead\n",
            "\n",
            "See the caveats in the documentation: https://pandas.pydata.org/pandas-docs/stable/user_guide/indexing.html#returning-a-view-versus-a-copy\n",
            "  textBlob['TextBlob_Sentiment_Type']=''\n"
          ]
        }
      ],
      "source": [
        "textBlob['TextBlob_Sentiment_Type']=''\n",
        "textBlob.loc[textBlob.TextBlob_Polarity>0,'TextBlob_Sentiment_Type']='POSITIVE'\n",
        "textBlob.loc[textBlob.TextBlob_Polarity==0,'TextBlob_Sentiment_Type']='NEUTRAL'\n",
        "textBlob.loc[textBlob.TextBlob_Polarity<0,'TextBlob_Sentiment_Type']='NEGATIVE'"
      ]
    },
    {
      "cell_type": "code",
      "execution_count": 22,
      "metadata": {
        "colab": {
          "base_uri": "https://localhost:8080/"
        },
        "id": "_ev2skkmveUw",
        "outputId": "2faac6bc-ab13-4769-9341-5e63df2c708d"
      },
      "outputs": [
        {
          "data": {
            "text/plain": [
              "POSITIVE    56\n",
              "NEUTRAL      5\n",
              "NEGATIVE     2\n",
              "Name: TextBlob_Sentiment_Type, dtype: int64"
            ]
          },
          "execution_count": 22,
          "metadata": {},
          "output_type": "execute_result"
        }
      ],
      "source": [
        "textBlob.TextBlob_Sentiment_Type.value_counts()"
      ]
    },
    {
      "cell_type": "code",
      "execution_count": 23,
      "metadata": {
        "colab": {
          "base_uri": "https://localhost:8080/",
          "height": 338
        },
        "id": "zs_O3z4-tNei",
        "outputId": "c1c15d17-e3f1-4983-f0b2-5df3e993d69c"
      },
      "outputs": [
        {
          "data": {
            "text/plain": [
              "<Axes: title={'center': 'TextBlob Sentiment Analysis'}>"
            ]
          },
          "execution_count": 23,
          "metadata": {},
          "output_type": "execute_result"
        },
        {
          "data": {
            "image/png": "[encoded data removed]",
            "text/plain": [
              "<Figure size 640x480 with 1 Axes>"
            ]
          },
          "metadata": {},
          "output_type": "display_data"
        }
      ],
      "source": [
        "textBlob.TextBlob_Sentiment_Type.value_counts().plot(kind='bar',title=\"TextBlob Sentiment Analysis\")"
      ]
    },
    {
      "attachments": {},
      "cell_type": "markdown",
      "metadata": {
        "id": "o4BkWHCotcf_"
      },
      "source": [
        "## Vader"
      ]
    },
    {
      "cell_type": "code",
      "execution_count": 24,
      "metadata": {
        "colab": {
          "base_uri": "https://localhost:8080/"
        },
        "id": "qPr96LfXte83",
        "outputId": "f3c71ff1-219f-46f0-f021-69ab140adfe1"
      },
      "outputs": [
        {
          "name": "stderr",
          "output_type": "stream",
          "text": [
            "[nltk_data] Error loading vader_lexicon: <urlopen error [SSL:\n",
            "[nltk_data]     CERTIFICATE_VERIFY_FAILED] certificate verify failed:\n",
            "[nltk_data]     unable to get local issuer certificate (_ssl.c:997)>\n"
          ]
        }
      ],
      "source": [
        "import nltk\n",
        "nltk.download('vader_lexicon')\n",
        "from nltk.sentiment.vader import SentimentIntensityAnalyzer\n",
        "\n",
        "vader_df = clean_df.loc[clean_df['Language']=='English']\n",
        "\n",
        "sid = SentimentIntensityAnalyzer()"
      ]
    },
    {
      "cell_type": "code",
      "execution_count": 25,
      "metadata": {
        "colab": {
          "base_uri": "https://localhost:8080/",
          "height": 310
        },
        "id": "ywOe5tSatkIB",
        "outputId": "c4b5dade-3e5f-4b4e-cbec-8a55811d8af2"
      },
      "outputs": [
        {
          "name": "stderr",
          "output_type": "stream",
          "text": [
            "/var/folders/qf/9lg8vbt12270lh6bbvv2t0940000gn/T/ipykernel_89637/3437287351.py:1: SettingWithCopyWarning: \n",
            "A value is trying to be set on a copy of a slice from a DataFrame.\n",
            "Try using .loc[row_indexer,col_indexer] = value instead\n",
            "\n",
            "See the caveats in the documentation: https://pandas.pydata.org/pandas-docs/stable/user_guide/indexing.html#returning-a-view-versus-a-copy\n",
            "  vader_df['vader_scores'] = vader_df['Comment'].apply(lambda Comment: sid.polarity_scores(Comment))\n"
          ]
        },
        {
          "data": {
            "text/html": [
              "<div>\n",
              "<style scoped>\n",
              "    .dataframe tbody tr th:only-of-type {\n",
              "        vertical-align: middle;\n",
              "    }\n",
              "\n",
              "    .dataframe tbody tr th {\n",
              "        vertical-align: top;\n",
              "    }\n",
              "\n",
              "    .dataframe thead th {\n",
              "        text-align: right;\n",
              "    }\n",
              "</style>\n",
              "<table border=\"1\" class=\"dataframe\">\n",
              "  <thead>\n",
              "    <tr style=\"text-align: right;\">\n",
              "      <th></th>\n",
              "      <th>Author</th>\n",
              "      <th>Comment</th>\n",
              "      <th>Timestamp</th>\n",
              "      <th>Likes</th>\n",
              "      <th>TotalReplies</th>\n",
              "      <th>Language</th>\n",
              "      <th>vader_scores</th>\n",
              "    </tr>\n",
              "  </thead>\n",
              "  <tbody>\n",
              "    <tr>\n",
              "      <th>0</th>\n",
              "      <td>Savita Pathak</td>\n",
              "      <td>how can ed always give us a masterpiece i lite...</td>\n",
              "      <td>2021-09-15T07:58:19Z</td>\n",
              "      <td>219</td>\n",
              "      <td>4</td>\n",
              "      <td>English</td>\n",
              "      <td>{'neg': 0.0, 'neu': 0.76, 'pos': 0.24, 'compou...</td>\n",
              "    </tr>\n",
              "    <tr>\n",
              "      <th>2</th>\n",
              "      <td>Roblox girls</td>\n",
              "      <td>i love this song huge fan of it thanks for mak...</td>\n",
              "      <td>2023-10-03T21:25:45Z</td>\n",
              "      <td>1</td>\n",
              "      <td>0</td>\n",
              "      <td>English</td>\n",
              "      <td>{'neg': 0.0, 'neu': 0.519, 'pos': 0.481, 'comp...</td>\n",
              "    </tr>\n",
              "    <tr>\n",
              "      <th>5</th>\n",
              "      <td>Sulatha Gengatharan</td>\n",
              "      <td>perfection whenever i feel bored or tired i ju...</td>\n",
              "      <td>2023-06-04T19:38:10Z</td>\n",
              "      <td>123</td>\n",
              "      <td>2</td>\n",
              "      <td>English</td>\n",
              "      <td>{'neg': 0.17, 'neu': 0.443, 'pos': 0.387, 'com...</td>\n",
              "    </tr>\n",
              "    <tr>\n",
              "      <th>6</th>\n",
              "      <td>Saksham Chaturvedi</td>\n",
              "      <td>never have i ever listened to an ed sheeran so...</td>\n",
              "      <td>2021-11-02T09:19:58Z</td>\n",
              "      <td>408</td>\n",
              "      <td>9</td>\n",
              "      <td>English</td>\n",
              "      <td>{'neg': 0.0, 'neu': 1.0, 'pos': 0.0, 'compound...</td>\n",
              "    </tr>\n",
              "    <tr>\n",
              "      <th>10</th>\n",
              "      <td>Bunny Mix Lyrics</td>\n",
              "      <td>i love this song good job ed for making everyo...</td>\n",
              "      <td>2023-09-20T04:26:45Z</td>\n",
              "      <td>5</td>\n",
              "      <td>0</td>\n",
              "      <td>English</td>\n",
              "      <td>{'neg': 0.0, 'neu': 0.583, 'pos': 0.417, 'comp...</td>\n",
              "    </tr>\n",
              "  </tbody>\n",
              "</table>\n",
              "</div>"
            ],
            "text/plain": [
              "                 Author                                            Comment  \\\n",
              "0         Savita Pathak  how can ed always give us a masterpiece i lite...   \n",
              "2          Roblox girls  i love this song huge fan of it thanks for mak...   \n",
              "5   Sulatha Gengatharan  perfection whenever i feel bored or tired i ju...   \n",
              "6    Saksham Chaturvedi  never have i ever listened to an ed sheeran so...   \n",
              "10    Bunny Mix Lyrics   i love this song good job ed for making everyo...   \n",
              "\n",
              "               Timestamp  Likes  TotalReplies Language  \\\n",
              "0   2021-09-15T07:58:19Z    219             4  English   \n",
              "2   2023-10-03T21:25:45Z      1             0  English   \n",
              "5   2023-06-04T19:38:10Z    123             2  English   \n",
              "6   2021-11-02T09:19:58Z    408             9  English   \n",
              "10  2023-09-20T04:26:45Z      5             0  English   \n",
              "\n",
              "                                         vader_scores  \n",
              "0   {'neg': 0.0, 'neu': 0.76, 'pos': 0.24, 'compou...  \n",
              "2   {'neg': 0.0, 'neu': 0.519, 'pos': 0.481, 'comp...  \n",
              "5   {'neg': 0.17, 'neu': 0.443, 'pos': 0.387, 'com...  \n",
              "6   {'neg': 0.0, 'neu': 1.0, 'pos': 0.0, 'compound...  \n",
              "10  {'neg': 0.0, 'neu': 0.583, 'pos': 0.417, 'comp...  "
            ]
          },
          "execution_count": 25,
          "metadata": {},
          "output_type": "execute_result"
        }
      ],
      "source": [
        "vader_df['vader_scores'] = vader_df['Comment'].apply(lambda Comment: sid.polarity_scores(Comment))\n",
        "vader_df.head()"
      ]
    },
    {
      "cell_type": "code",
      "execution_count": 26,
      "metadata": {
        "colab": {
          "base_uri": "https://localhost:8080/"
        },
        "id": "_LA4-7WYu2Ne",
        "outputId": "16274d11-e19b-4231-dbb4-814cb11e334c"
      },
      "outputs": [
        {
          "name": "stderr",
          "output_type": "stream",
          "text": [
            "/var/folders/qf/9lg8vbt12270lh6bbvv2t0940000gn/T/ipykernel_89637/231554778.py:1: SettingWithCopyWarning: \n",
            "A value is trying to be set on a copy of a slice from a DataFrame.\n",
            "Try using .loc[row_indexer,col_indexer] = value instead\n",
            "\n",
            "See the caveats in the documentation: https://pandas.pydata.org/pandas-docs/stable/user_guide/indexing.html#returning-a-view-versus-a-copy\n",
            "  vader_df['compound'] = vader_df['vader_scores'].apply(lambda score_dict: score_dict['compound'])\n",
            "/var/folders/qf/9lg8vbt12270lh6bbvv2t0940000gn/T/ipykernel_89637/231554778.py:2: SettingWithCopyWarning: \n",
            "A value is trying to be set on a copy of a slice from a DataFrame.\n",
            "Try using .loc[row_indexer,col_indexer] = value instead\n",
            "\n",
            "See the caveats in the documentation: https://pandas.pydata.org/pandas-docs/stable/user_guide/indexing.html#returning-a-view-versus-a-copy\n",
            "  vader_df['vader_sentiment_type']=''\n"
          ]
        }
      ],
      "source": [
        "vader_df['compound'] = vader_df['vader_scores'].apply(lambda score_dict: score_dict['compound'])\n",
        "vader_df['vader_sentiment_type']=''\n",
        "vader_df.loc[vader_df.compound>0,'vader_sentiment_type']='POSITIVE'\n",
        "vader_df.loc[vader_df.compound==0,'vader_sentiment_type']='NEUTRAL'\n",
        "vader_df.loc[vader_df.compound<0,'vader_sentiment_type']='NEGATIVE'"
      ]
    },
    {
      "cell_type": "code",
      "execution_count": 27,
      "metadata": {
        "colab": {
          "base_uri": "https://localhost:8080/"
        },
        "id": "wAIbc8IzvYr7",
        "outputId": "418f984d-cb81-4ef0-ec91-ec49da2c053e"
      },
      "outputs": [
        {
          "data": {
            "text/plain": [
              "POSITIVE    58\n",
              "NEUTRAL      3\n",
              "NEGATIVE     2\n",
              "Name: vader_sentiment_type, dtype: int64"
            ]
          },
          "execution_count": 27,
          "metadata": {},
          "output_type": "execute_result"
        }
      ],
      "source": [
        "vader_df.vader_sentiment_type.value_counts()"
      ]
    },
    {
      "cell_type": "code",
      "execution_count": 28,
      "metadata": {
        "colab": {
          "base_uri": "https://localhost:8080/",
          "height": 338
        },
        "id": "DvUbKI7puIPA",
        "outputId": "35db3e83-c682-4d1d-a794-e76ab69ce6a0"
      },
      "outputs": [
        {
          "data": {
            "text/plain": [
              "<Axes: title={'center': 'sentiment analysis'}>"
            ]
          },
          "execution_count": 28,
          "metadata": {},
          "output_type": "execute_result"
        },
        {
          "data": {
            "image/png": "[encoded data removed]",
            "text/plain": [
              "<Figure size 640x480 with 1 Axes>"
            ]
          },
          "metadata": {},
          "output_type": "display_data"
        }
      ],
      "source": [
        "vader_df.vader_sentiment_type.value_counts().plot(kind='bar',title=\"sentiment analysis\")"
      ]
    },
    {
      "attachments": {},
      "cell_type": "markdown",
      "metadata": {
        "id": "YHc1RvG110HP"
      },
      "source": [
        "## Comparison"
      ]
    },
    {
      "cell_type": "code",
      "execution_count": 29,
      "metadata": {
        "id": "3MUqoH0v12zL"
      },
      "outputs": [
        {
          "data": {
            "text/html": [
              "<div>\n",
              "<style scoped>\n",
              "    .dataframe tbody tr th:only-of-type {\n",
              "        vertical-align: middle;\n",
              "    }\n",
              "\n",
              "    .dataframe tbody tr th {\n",
              "        vertical-align: top;\n",
              "    }\n",
              "\n",
              "    .dataframe thead th {\n",
              "        text-align: right;\n",
              "    }\n",
              "</style>\n",
              "<table border=\"1\" class=\"dataframe\">\n",
              "  <thead>\n",
              "    <tr style=\"text-align: right;\">\n",
              "      <th></th>\n",
              "      <th>Author</th>\n",
              "      <th>Comment</th>\n",
              "      <th>Timestamp</th>\n",
              "      <th>Likes</th>\n",
              "      <th>TotalReplies</th>\n",
              "      <th>Language</th>\n",
              "      <th>vader_scores</th>\n",
              "      <th>compound</th>\n",
              "      <th>vader_sentiment_type</th>\n",
              "    </tr>\n",
              "  </thead>\n",
              "  <tbody>\n",
              "    <tr>\n",
              "      <th>0</th>\n",
              "      <td>Savita Pathak</td>\n",
              "      <td>how can ed always give us a masterpiece i lite...</td>\n",
              "      <td>2021-09-15T07:58:19Z</td>\n",
              "      <td>219</td>\n",
              "      <td>4</td>\n",
              "      <td>English</td>\n",
              "      <td>{'neg': 0.0, 'neu': 0.76, 'pos': 0.24, 'compou...</td>\n",
              "      <td>0.6249</td>\n",
              "      <td>POSITIVE</td>\n",
              "    </tr>\n",
              "    <tr>\n",
              "      <th>2</th>\n",
              "      <td>Roblox girls</td>\n",
              "      <td>i love this song huge fan of it thanks for mak...</td>\n",
              "      <td>2023-10-03T21:25:45Z</td>\n",
              "      <td>1</td>\n",
              "      <td>0</td>\n",
              "      <td>English</td>\n",
              "      <td>{'neg': 0.0, 'neu': 0.519, 'pos': 0.481, 'comp...</td>\n",
              "      <td>0.9300</td>\n",
              "      <td>POSITIVE</td>\n",
              "    </tr>\n",
              "    <tr>\n",
              "      <th>5</th>\n",
              "      <td>Sulatha Gengatharan</td>\n",
              "      <td>perfection whenever i feel bored or tired i ju...</td>\n",
              "      <td>2023-06-04T19:38:10Z</td>\n",
              "      <td>123</td>\n",
              "      <td>2</td>\n",
              "      <td>English</td>\n",
              "      <td>{'neg': 0.17, 'neu': 0.443, 'pos': 0.387, 'com...</td>\n",
              "      <td>0.8096</td>\n",
              "      <td>POSITIVE</td>\n",
              "    </tr>\n",
              "    <tr>\n",
              "      <th>6</th>\n",
              "      <td>Saksham Chaturvedi</td>\n",
              "      <td>never have i ever listened to an ed sheeran so...</td>\n",
              "      <td>2021-11-02T09:19:58Z</td>\n",
              "      <td>408</td>\n",
              "      <td>9</td>\n",
              "      <td>English</td>\n",
              "      <td>{'neg': 0.0, 'neu': 1.0, 'pos': 0.0, 'compound...</td>\n",
              "      <td>0.0000</td>\n",
              "      <td>NEUTRAL</td>\n",
              "    </tr>\n",
              "    <tr>\n",
              "      <th>10</th>\n",
              "      <td>Bunny Mix Lyrics</td>\n",
              "      <td>i love this song good job ed for making everyo...</td>\n",
              "      <td>2023-09-20T04:26:45Z</td>\n",
              "      <td>5</td>\n",
              "      <td>0</td>\n",
              "      <td>English</td>\n",
              "      <td>{'neg': 0.0, 'neu': 0.583, 'pos': 0.417, 'comp...</td>\n",
              "      <td>0.8750</td>\n",
              "      <td>POSITIVE</td>\n",
              "    </tr>\n",
              "    <tr>\n",
              "      <th>11</th>\n",
              "      <td>doglover smith</td>\n",
              "      <td>ed is killing it everything he does is remarka...</td>\n",
              "      <td>2023-05-26T01:03:05Z</td>\n",
              "      <td>58</td>\n",
              "      <td>0</td>\n",
              "      <td>English</td>\n",
              "      <td>{'neg': 0.138, 'neu': 0.439, 'pos': 0.423, 'co...</td>\n",
              "      <td>0.8434</td>\n",
              "      <td>POSITIVE</td>\n",
              "    </tr>\n",
              "    <tr>\n",
              "      <th>41</th>\n",
              "      <td>Krystina Bouchard</td>\n",
              "      <td>i absolutely cant get enough of this song</td>\n",
              "      <td>2023-04-16T01:54:32Z</td>\n",
              "      <td>8</td>\n",
              "      <td>1</td>\n",
              "      <td>English</td>\n",
              "      <td>{'neg': 0.0, 'neu': 1.0, 'pos': 0.0, 'compound...</td>\n",
              "      <td>0.0000</td>\n",
              "      <td>NEUTRAL</td>\n",
              "    </tr>\n",
              "    <tr>\n",
              "      <th>44</th>\n",
              "      <td>Phil Grossman</td>\n",
              "      <td>definitely my favourite ed sheeran song and wi...</td>\n",
              "      <td>2023-06-04T22:48:43Z</td>\n",
              "      <td>33</td>\n",
              "      <td>0</td>\n",
              "      <td>English</td>\n",
              "      <td>{'neg': 0.092, 'neu': 0.82, 'pos': 0.089, 'com...</td>\n",
              "      <td>-0.0258</td>\n",
              "      <td>NEGATIVE</td>\n",
              "    </tr>\n",
              "    <tr>\n",
              "      <th>76</th>\n",
              "      <td>Accord Electronic Music</td>\n",
              "      <td>ed can you ever disappoint track is fire</td>\n",
              "      <td>2023-09-15T11:10:42Z</td>\n",
              "      <td>2</td>\n",
              "      <td>0</td>\n",
              "      <td>English</td>\n",
              "      <td>{'neg': 0.459, 'neu': 0.541, 'pos': 0.0, 'comp...</td>\n",
              "      <td>-0.6249</td>\n",
              "      <td>NEGATIVE</td>\n",
              "    </tr>\n",
              "    <tr>\n",
              "      <th>84</th>\n",
              "      <td>ikobobisking</td>\n",
              "      <td>2 years later and i still get shivers</td>\n",
              "      <td>2023-09-23T18:08:49Z</td>\n",
              "      <td>1</td>\n",
              "      <td>0</td>\n",
              "      <td>English</td>\n",
              "      <td>{'neg': 0.0, 'neu': 1.0, 'pos': 0.0, 'compound...</td>\n",
              "      <td>0.0000</td>\n",
              "      <td>NEUTRAL</td>\n",
              "    </tr>\n",
              "  </tbody>\n",
              "</table>\n",
              "</div>"
            ],
            "text/plain": [
              "                     Author  \\\n",
              "0             Savita Pathak   \n",
              "2              Roblox girls   \n",
              "5       Sulatha Gengatharan   \n",
              "6        Saksham Chaturvedi   \n",
              "10        Bunny Mix Lyrics    \n",
              "11           doglover smith   \n",
              "41        Krystina Bouchard   \n",
              "44            Phil Grossman   \n",
              "76  Accord Electronic Music   \n",
              "84             ikobobisking   \n",
              "\n",
              "                                              Comment             Timestamp  \\\n",
              "0   how can ed always give us a masterpiece i lite...  2021-09-15T07:58:19Z   \n",
              "2   i love this song huge fan of it thanks for mak...  2023-10-03T21:25:45Z   \n",
              "5   perfection whenever i feel bored or tired i ju...  2023-06-04T19:38:10Z   \n",
              "6   never have i ever listened to an ed sheeran so...  2021-11-02T09:19:58Z   \n",
              "10  i love this song good job ed for making everyo...  2023-09-20T04:26:45Z   \n",
              "11  ed is killing it everything he does is remarka...  2023-05-26T01:03:05Z   \n",
              "41          i absolutely cant get enough of this song  2023-04-16T01:54:32Z   \n",
              "44  definitely my favourite ed sheeran song and wi...  2023-06-04T22:48:43Z   \n",
              "76           ed can you ever disappoint track is fire  2023-09-15T11:10:42Z   \n",
              "84              2 years later and i still get shivers  2023-09-23T18:08:49Z   \n",
              "\n",
              "    Likes  TotalReplies Language  \\\n",
              "0     219             4  English   \n",
              "2       1             0  English   \n",
              "5     123             2  English   \n",
              "6     408             9  English   \n",
              "10      5             0  English   \n",
              "11     58             0  English   \n",
              "41      8             1  English   \n",
              "44     33             0  English   \n",
              "76      2             0  English   \n",
              "84      1             0  English   \n",
              "\n",
              "                                         vader_scores  compound  \\\n",
              "0   {'neg': 0.0, 'neu': 0.76, 'pos': 0.24, 'compou...    0.6249   \n",
              "2   {'neg': 0.0, 'neu': 0.519, 'pos': 0.481, 'comp...    0.9300   \n",
              "5   {'neg': 0.17, 'neu': 0.443, 'pos': 0.387, 'com...    0.8096   \n",
              "6   {'neg': 0.0, 'neu': 1.0, 'pos': 0.0, 'compound...    0.0000   \n",
              "10  {'neg': 0.0, 'neu': 0.583, 'pos': 0.417, 'comp...    0.8750   \n",
              "11  {'neg': 0.138, 'neu': 0.439, 'pos': 0.423, 'co...    0.8434   \n",
              "41  {'neg': 0.0, 'neu': 1.0, 'pos': 0.0, 'compound...    0.0000   \n",
              "44  {'neg': 0.092, 'neu': 0.82, 'pos': 0.089, 'com...   -0.0258   \n",
              "76  {'neg': 0.459, 'neu': 0.541, 'pos': 0.0, 'comp...   -0.6249   \n",
              "84  {'neg': 0.0, 'neu': 1.0, 'pos': 0.0, 'compound...    0.0000   \n",
              "\n",
              "   vader_sentiment_type  \n",
              "0              POSITIVE  \n",
              "2              POSITIVE  \n",
              "5              POSITIVE  \n",
              "6               NEUTRAL  \n",
              "10             POSITIVE  \n",
              "11             POSITIVE  \n",
              "41              NEUTRAL  \n",
              "44             NEGATIVE  \n",
              "76             NEGATIVE  \n",
              "84              NEUTRAL  "
            ]
          },
          "execution_count": 29,
          "metadata": {},
          "output_type": "execute_result"
        }
      ],
      "source": [
        "vader_df.groupby(['vader_sentiment_type']).head()"
      ]
    },
    {
      "attachments": {},
      "cell_type": "markdown",
      "metadata": {
        "id": "CybrcwHWSfXv"
      },
      "source": [
        "## Conclusion\n"
      ]
    },
    {
      "attachments": {},
      "cell_type": "markdown",
      "metadata": {
        "id": "OSY2TefT7kcN"
      },
      "source": [
        "After the initial analysis and visual inspection. There are more positive and negative counts using TextBlob than Vader.\n",
        "\n",
        "I think TextBlob is closer to the sentiment outcomes that I expect. Hence picking TextBlob for Sentiment analysis."
      ]
    },
    {
      "attachments": {},
      "cell_type": "markdown",
      "metadata": {
        "id": "MjJg8Eum8H-4"
      },
      "source": [
        "# DASHBOARD"
      ]
    },
    {
      "attachments": {},
      "cell_type": "markdown",
      "metadata": {
        "id": "eSOhuC2K8LDM"
      },
      "source": [
        "A few insights that we draw:\n",
        "1. Top 10 liked comments\n",
        "2. Top 10 replies comments\n",
        "3. Top languages commented in\n",
        "4. Sentiment analysis on the English comments\n",
        "5. Metrics: Likes and subscribes\n",
        "6. Time series chart showing subs gained and Viewer hits\n"
      ]
    },
    {
      "cell_type": "code",
      "execution_count": 30,
      "metadata": {
        "id": "RKDFLjkRrwCw"
      },
      "outputs": [
        {
          "name": "stdout",
          "output_type": "stream",
          "text": [
            "Please visit this URL to authorize this application: https://accounts.google.com/o/oauth2/auth?response_type=code&client_id=520586605646-corfo79j9773av3esoa5i1cr013tofvr.apps.googleusercontent.com&redirect_uri=urn%3Aietf%3Awg%3Aoauth%3A2.0%3Aoob&scope=https%3A%2F%2Fwww.googleapis.com%2Fauth%2Fyoutube.readonly&state=OYmZXA7ZAz5Q9BjWxmuVqoJfoOVmla&prompt=consent&access_type=offline\n"
          ]
        },
        {
          "ename": "ValueError",
          "evalue": "Please supply either code or authorization_response parameters.",
          "output_type": "error",
          "traceback": [
            "\u001b[0;31m---------------------------------------------------------------------------\u001b[0m",
            "\u001b[0;31mValueError\u001b[0m                                Traceback (most recent call last)",
            "Cell \u001b[0;32mIn[30], line 40\u001b[0m\n\u001b[1;32m     37\u001b[0m     \u001b[39mprint\u001b[39m(response)\n\u001b[1;32m     39\u001b[0m \u001b[39mif\u001b[39;00m \u001b[39m__name__\u001b[39m \u001b[39m==\u001b[39m \u001b[39m\"\u001b[39m\u001b[39m__main__\u001b[39m\u001b[39m\"\u001b[39m:\n\u001b[0;32m---> 40\u001b[0m     main()\n",
            "Cell \u001b[0;32mIn[30], line 27\u001b[0m, in \u001b[0;36mmain\u001b[0;34m()\u001b[0m\n\u001b[1;32m     24\u001b[0m \u001b[39m# Get credentials and create an API client\u001b[39;00m\n\u001b[1;32m     25\u001b[0m flow \u001b[39m=\u001b[39m google_auth_oauthlib\u001b[39m.\u001b[39mflow\u001b[39m.\u001b[39mInstalledAppFlow\u001b[39m.\u001b[39mfrom_client_secrets_file(\n\u001b[1;32m     26\u001b[0m     client_secrets_file, scopes)\n\u001b[0;32m---> 27\u001b[0m credentials \u001b[39m=\u001b[39m flow\u001b[39m.\u001b[39;49mrun_console()\n\u001b[1;32m     28\u001b[0m youtube \u001b[39m=\u001b[39m googleapiclient\u001b[39m.\u001b[39mdiscovery\u001b[39m.\u001b[39mbuild(\n\u001b[1;32m     29\u001b[0m     api_service_name, api_version, credentials\u001b[39m=\u001b[39mcredentials)\n\u001b[1;32m     31\u001b[0m request \u001b[39m=\u001b[39m youtube\u001b[39m.\u001b[39mvideos()\u001b[39m.\u001b[39mlist(\n\u001b[1;32m     32\u001b[0m     part\u001b[39m=\u001b[39m\u001b[39m\"\u001b[39m\u001b[39msnippet,contentDetails,statistics\u001b[39m\u001b[39m\"\u001b[39m,\n\u001b[1;32m     33\u001b[0m     \u001b[39mid\u001b[39m\u001b[39m=\u001b[39m\u001b[39m\"\u001b[39m\u001b[39mdQw4w9WgXcQ\u001b[39m\u001b[39m\"\u001b[39m\n\u001b[1;32m     34\u001b[0m )\n",
            "File \u001b[0;32m~/Desktop/Streamlit-YouTube-Dashboard-main/.venv/lib/python3.10/site-packages/google_auth_oauthlib/flow.py:411\u001b[0m, in \u001b[0;36mInstalledAppFlow.run_console\u001b[0;34m(self, authorization_prompt_message, authorization_code_message, **kwargs)\u001b[0m\n\u001b[1;32m    407\u001b[0m \u001b[39mprint\u001b[39m(authorization_prompt_message\u001b[39m.\u001b[39mformat(url\u001b[39m=\u001b[39mauth_url))\n\u001b[1;32m    409\u001b[0m code \u001b[39m=\u001b[39m \u001b[39minput\u001b[39m(authorization_code_message)\n\u001b[0;32m--> 411\u001b[0m \u001b[39mself\u001b[39;49m\u001b[39m.\u001b[39;49mfetch_token(code\u001b[39m=\u001b[39;49mcode)\n\u001b[1;32m    413\u001b[0m \u001b[39mreturn\u001b[39;00m \u001b[39mself\u001b[39m\u001b[39m.\u001b[39mcredentials\n",
            "File \u001b[0;32m~/Desktop/Streamlit-YouTube-Dashboard-main/.venv/lib/python3.10/site-packages/google_auth_oauthlib/flow.py:286\u001b[0m, in \u001b[0;36mFlow.fetch_token\u001b[0;34m(self, **kwargs)\u001b[0m\n\u001b[1;32m    284\u001b[0m kwargs\u001b[39m.\u001b[39msetdefault(\u001b[39m\"\u001b[39m\u001b[39mclient_secret\u001b[39m\u001b[39m\"\u001b[39m, \u001b[39mself\u001b[39m\u001b[39m.\u001b[39mclient_config[\u001b[39m\"\u001b[39m\u001b[39mclient_secret\u001b[39m\u001b[39m\"\u001b[39m])\n\u001b[1;32m    285\u001b[0m kwargs\u001b[39m.\u001b[39msetdefault(\u001b[39m\"\u001b[39m\u001b[39mcode_verifier\u001b[39m\u001b[39m\"\u001b[39m, \u001b[39mself\u001b[39m\u001b[39m.\u001b[39mcode_verifier)\n\u001b[0;32m--> 286\u001b[0m \u001b[39mreturn\u001b[39;00m \u001b[39mself\u001b[39;49m\u001b[39m.\u001b[39;49moauth2session\u001b[39m.\u001b[39;49mfetch_token(\u001b[39mself\u001b[39;49m\u001b[39m.\u001b[39;49mclient_config[\u001b[39m\"\u001b[39;49m\u001b[39mtoken_uri\u001b[39;49m\u001b[39m\"\u001b[39;49m], \u001b[39m*\u001b[39;49m\u001b[39m*\u001b[39;49mkwargs)\n",
            "File \u001b[0;32m~/Desktop/Streamlit-YouTube-Dashboard-main/.venv/lib/python3.10/site-packages/requests_oauthlib/oauth2_session.py:251\u001b[0m, in \u001b[0;36mOAuth2Session.fetch_token\u001b[0;34m(self, token_url, code, authorization_response, body, auth, username, password, method, force_querystring, timeout, headers, verify, proxies, include_client_id, client_secret, cert, **kwargs)\u001b[0m\n\u001b[1;32m    249\u001b[0m     code \u001b[39m=\u001b[39m \u001b[39mself\u001b[39m\u001b[39m.\u001b[39m_client\u001b[39m.\u001b[39mcode\n\u001b[1;32m    250\u001b[0m     \u001b[39mif\u001b[39;00m \u001b[39mnot\u001b[39;00m code:\n\u001b[0;32m--> 251\u001b[0m         \u001b[39mraise\u001b[39;00m \u001b[39mValueError\u001b[39;00m(\n\u001b[1;32m    252\u001b[0m             \u001b[39m\"\u001b[39m\u001b[39mPlease supply either code or \u001b[39m\u001b[39m\"\u001b[39m \u001b[39m\"\u001b[39m\u001b[39mauthorization_response parameters.\u001b[39m\u001b[39m\"\u001b[39m\n\u001b[1;32m    253\u001b[0m         )\n\u001b[1;32m    255\u001b[0m \u001b[39m# Earlier versions of this library build an HTTPBasicAuth header out of\u001b[39;00m\n\u001b[1;32m    256\u001b[0m \u001b[39m# `username` and `password`. The RFC states, however these attributes\u001b[39;00m\n\u001b[1;32m    257\u001b[0m \u001b[39m# must be in the request body and not the header.\u001b[39;00m\n\u001b[0;32m   (...)\u001b[0m\n\u001b[1;32m    264\u001b[0m \u001b[39m# 4.3.2 - Resource Owner Password Credentials Grant\u001b[39;00m\n\u001b[1;32m    265\u001b[0m \u001b[39m#         https://tools.ietf.org/html/rfc6749#section-4.3.2\u001b[39;00m\n\u001b[1;32m    267\u001b[0m \u001b[39mif\u001b[39;00m \u001b[39misinstance\u001b[39m(\u001b[39mself\u001b[39m\u001b[39m.\u001b[39m_client, LegacyApplicationClient):\n",
            "\u001b[0;31mValueError\u001b[0m: Please supply either code or authorization_response parameters."
          ]
        }
      ],
      "source": [
        "# -*- coding: utf-8 -*-\n",
        "\n",
        "# Sample Python code for youtube.videos.list\n",
        "# See instructions for running these code samples locally:\n",
        "# https://developers.google.com/explorer-help/code-samples#python\n",
        "\n",
        "import os\n",
        "\n",
        "import google_auth_oauthlib.flow\n",
        "import googleapiclient.discovery\n",
        "import googleapiclient.errors\n",
        "\n",
        "scopes = [\"https://www.googleapis.com/auth/youtube.readonly\"]\n",
        "\n",
        "def main():\n",
        "    # Disable OAuthlib's HTTPS verification when running locally.\n",
        "    # *DO NOT* leave this option enabled in production.\n",
        "    os.environ[\"OAUTHLIB_INSECURE_TRANSPORT\"] = \"1\"\n",
        "\n",
        "    api_service_name = \"youtube\"\n",
        "    api_version = \"v3\"\n",
        "    client_secrets_file = \"/Users/Vlahonator/Downloads/client_secret_520586605646-corfo79j9773av3esoa5i1cr013tofvr.apps.googleusercontent.com.json\"\n",
        "\n",
        "    # Get credentials and create an API client\n",
        "    flow = google_auth_oauthlib.flow.InstalledAppFlow.from_client_secrets_file(\n",
        "        client_secrets_file, scopes)\n",
        "    credentials = flow.run_console()\n",
        "    youtube = googleapiclient.discovery.build(\n",
        "        api_service_name, api_version, credentials=credentials)\n",
        "\n",
        "    request = youtube.videos().list(\n",
        "        part=\"snippet,contentDetails,statistics\",\n",
        "        id=\"dQw4w9WgXcQ\"\n",
        "    )\n",
        "    response = request.execute()\n",
        "\n",
        "    print(response)\n",
        "\n",
        "if __name__ == \"__main__\":\n",
        "    main()"
      ]
    },
    {
      "cell_type": "code",
      "execution_count": null,
      "metadata": {},
      "outputs": [],
      "source": []
    },
    {
      "attachments": {},
      "cell_type": "markdown",
      "metadata": {
        "id": "Mur22aN1D6hD"
      },
      "source": [
        "## FUNCTIONS"
      ]
    },
    {
      "cell_type": "code",
      "execution_count": 31,
      "metadata": {
        "id": "xHO2i54SErwI"
      },
      "outputs": [],
      "source": [
        "url = 'https://www.youtube.com/watch?v=dQw4w9WgXcQ'"
      ]
    },
    {
      "cell_type": "code",
      "execution_count": 32,
      "metadata": {
        "id": "iyGSYm9_Ersu"
      },
      "outputs": [
        {
          "data": {
            "text/plain": [
              "'dQw4w9WgXcQ'"
            ]
          },
          "execution_count": 32,
          "metadata": {},
          "output_type": "execute_result"
        }
      ],
      "source": [
        "video_id = url.split('?v=')[-1]\n",
        "video_id"
      ]
    },
    {
      "cell_type": "code",
      "execution_count": 33,
      "metadata": {
        "id": "CQSt7Ln8D6Lf"
      },
      "outputs": [],
      "source": [
        "from googleapiclient.discovery import build\n",
        "import pandas as pd\n",
        "from cleantext import clean\n",
        "from langdetect import detect, LangDetectException\n",
        "import pycountry\n",
        "from textblob import TextBlob\n",
        "\n",
        "\n",
        "def get_polarity(text):\n",
        "    \"\"\"Function to get the polarity\n",
        "    Args:\n",
        "      text: Text used as input to determin the polarity\n",
        "    Returns:\n",
        "      Returns emotions expressed in a sentence.\n",
        "    \"\"\"\n",
        "    return TextBlob(text).sentiment.polarity\n",
        "\n",
        "def get_sentiment(polarity):\n",
        "   if polarity > 0:\n",
        "    return 'POSITIVE'\n",
        "   elif polarity<0:\n",
        "    return 'NEGATIVE' \n",
        "   else:\n",
        "     return 'NEUTRAL'\n",
        "\n",
        "\n",
        "def parse_video(url) -> pd.DataFrame:\n",
        "    \"\"\"\n",
        "    Args:\n",
        "      url: URL Of the video to be parsed\n",
        "    Returns:\n",
        "      Dataframe with the processed and cleaned values\n",
        "    \"\"\"\n",
        "    api_key = ''\n",
        "    # Get the video_id from the url\n",
        "    video_id = url.split('?v=')[-1]\n",
        "\n",
        "    # creating youtube resource object\n",
        "    youtube = build('youtube', 'v3',\n",
        "    developerKey=api_key)\n",
        "\n",
        "    # retrieve youtube video results\n",
        "    video_response=youtube.commentThreads().list(\n",
        "    part='snippet',\n",
        "    maxResults=1000,\n",
        "    order='relevance',\n",
        "    videoId=video_id\n",
        "    ).execute()\n",
        "\n",
        "    # empty list for storing reply\n",
        "    comments = []\n",
        "\n",
        "    # extracting required info from each result object\n",
        "    for item in video_response['items']:\n",
        "\n",
        "        # Extracting comments\n",
        "        comment = item['snippet']['topLevelComment']['snippet']['textOriginal']\n",
        "        # Extracting author\n",
        "        author = item['snippet']['topLevelComment']['snippet']['authorDisplayName']\n",
        "        # Extracting published time\n",
        "        published_at = item['snippet']['topLevelComment']['snippet']['publishedAt']\n",
        "        # Extracting likes\n",
        "        like_count = item['snippet']['topLevelComment']['snippet']['likeCount']\n",
        "        # Extracting total replies to the comment\n",
        "        reply_count = item['snippet']['totalReplyCount']\n",
        "\n",
        "        comments.append([author, comment, published_at, like_count, reply_count])\n",
        "\n",
        "    df = pd.DataFrame({'Author': [i[0] for i in comments], \n",
        "                      'Comment': [i[1] for i in comments], \n",
        "                      'Timestamp': [i[2] for i in comments],\n",
        "                    'Likes': [i[3] for i in comments], \n",
        "                    'TotalReplies': [i[4] for i in comments]})\n",
        "\n",
        "    # Remove extra spaces and make them lower case. Replace special emojis\n",
        "    df['Comment'] = df['Comment'].apply(lambda x: x.strip().lower().\n",
        "                                        replace('xd','').replace('<3',''))\n",
        "\n",
        "    # Clean text from line breaks, unicodes, emojis and punctuations\n",
        "    df['Comment'] = df['Comment'].apply(lambda x: clean(x, \n",
        "    no_emoji=True,\n",
        "    no_punct=True,\n",
        "    no_line_breaks=True,\n",
        "    fix_unicode=True))\n",
        "\n",
        "    # Detect the languages of the comments\n",
        "    df['Language'] = df['Comment'].apply(lambda x: detect(x))\n",
        "\n",
        "    # Convert ISO country codes to Languages\n",
        "    df['Language'] = df['Language'].apply(lambda x: pycountry.languages.get(alpha_2=x).name)\n",
        "\n",
        "    # Determining the polarity based on english comments\n",
        "    df['TextBlob_Polarity'] = df[['Comment','Language']].apply(lambda x: get_polarity(x['Comment']) if x['Language'] == 'English' else '', axis=1)\n",
        "\n",
        "    df['TextBlob_Sentiment_Type'] = df['TextBlob_Polarity'].apply(lambda x: get_sentiment(x) if type(x)==float else '')\n",
        "\n",
        "\n",
        "    return df"
      ]
    },
    {
      "cell_type": "code",
      "execution_count": 34,
      "metadata": {
        "colab": {
          "base_uri": "https://localhost:8080/",
          "height": 206
        },
        "id": "Vx5MWM8oDBEc",
        "outputId": "46ebae22-cf17-4c6b-974b-e233ded5a637"
      },
      "outputs": [
        {
          "data": {
            "text/html": [
              "<div>\n",
              "<style scoped>\n",
              "    .dataframe tbody tr th:only-of-type {\n",
              "        vertical-align: middle;\n",
              "    }\n",
              "\n",
              "    .dataframe tbody tr th {\n",
              "        vertical-align: top;\n",
              "    }\n",
              "\n",
              "    .dataframe thead th {\n",
              "        text-align: right;\n",
              "    }\n",
              "</style>\n",
              "<table border=\"1\" class=\"dataframe\">\n",
              "  <thead>\n",
              "    <tr style=\"text-align: right;\">\n",
              "      <th></th>\n",
              "      <th>Author</th>\n",
              "      <th>Comment</th>\n",
              "      <th>Timestamp</th>\n",
              "      <th>Likes</th>\n",
              "      <th>TotalReplies</th>\n",
              "      <th>Language</th>\n",
              "      <th>TextBlob_Polarity</th>\n",
              "      <th>TextBlob_Sentiment_Type</th>\n",
              "    </tr>\n",
              "  </thead>\n",
              "  <tbody>\n",
              "    <tr>\n",
              "      <th>0</th>\n",
              "      <td>Rick Astley</td>\n",
              "      <td>1 billion views for never gonna give you up am...</td>\n",
              "      <td>2021-07-28T21:00:32Z</td>\n",
              "      <td>1296626</td>\n",
              "      <td>500</td>\n",
              "      <td>English</td>\n",
              "      <td>0.333333</td>\n",
              "      <td>POSITIVE</td>\n",
              "    </tr>\n",
              "    <tr>\n",
              "      <th>1</th>\n",
              "      <td>H1K</td>\n",
              "      <td>this isnt your first time here and you know it</td>\n",
              "      <td>2019-10-31T21:38:49Z</td>\n",
              "      <td>1059039</td>\n",
              "      <td>500</td>\n",
              "      <td>English</td>\n",
              "      <td>0.25</td>\n",
              "      <td>POSITIVE</td>\n",
              "    </tr>\n",
              "    <tr>\n",
              "      <th>2</th>\n",
              "      <td>HSNYC</td>\n",
              "      <td>every time i am rickrolled i end up staying fo...</td>\n",
              "      <td>2023-09-24T20:54:36Z</td>\n",
              "      <td>1800</td>\n",
              "      <td>31</td>\n",
              "      <td>English</td>\n",
              "      <td>0.45</td>\n",
              "      <td>POSITIVE</td>\n",
              "    </tr>\n",
              "    <tr>\n",
              "      <th>3</th>\n",
              "      <td>Spirale</td>\n",
              "      <td>even in 2023 its still a masterpiece</td>\n",
              "      <td>2023-10-01T17:22:01Z</td>\n",
              "      <td>428</td>\n",
              "      <td>30</td>\n",
              "      <td>English</td>\n",
              "      <td>0.0</td>\n",
              "      <td>NEUTRAL</td>\n",
              "    </tr>\n",
              "    <tr>\n",
              "      <th>4</th>\n",
              "      <td>X gang</td>\n",
              "      <td>for the new generations coming dont let this m...</td>\n",
              "      <td>2023-10-04T11:54:22Z</td>\n",
              "      <td>29</td>\n",
              "      <td>0</td>\n",
              "      <td>English</td>\n",
              "      <td>0.136364</td>\n",
              "      <td>POSITIVE</td>\n",
              "    </tr>\n",
              "  </tbody>\n",
              "</table>\n",
              "</div>"
            ],
            "text/plain": [
              "        Author                                            Comment  \\\n",
              "0  Rick Astley  1 billion views for never gonna give you up am...   \n",
              "1          H1K     this isnt your first time here and you know it   \n",
              "2        HSNYC  every time i am rickrolled i end up staying fo...   \n",
              "3      Spirale               even in 2023 its still a masterpiece   \n",
              "4       X gang  for the new generations coming dont let this m...   \n",
              "\n",
              "              Timestamp    Likes  TotalReplies Language TextBlob_Polarity  \\\n",
              "0  2021-07-28T21:00:32Z  1296626           500  English          0.333333   \n",
              "1  2019-10-31T21:38:49Z  1059039           500  English              0.25   \n",
              "2  2023-09-24T20:54:36Z     1800            31  English              0.45   \n",
              "3  2023-10-01T17:22:01Z      428            30  English               0.0   \n",
              "4  2023-10-04T11:54:22Z       29             0  English          0.136364   \n",
              "\n",
              "  TextBlob_Sentiment_Type  \n",
              "0                POSITIVE  \n",
              "1                POSITIVE  \n",
              "2                POSITIVE  \n",
              "3                 NEUTRAL  \n",
              "4                POSITIVE  "
            ]
          },
          "execution_count": 34,
          "metadata": {},
          "output_type": "execute_result"
        }
      ],
      "source": [
        "df3 = parse_video('https://www.youtube.com/watch?v=dQw4w9WgXcQ')\n",
        "df3.head()"
      ]
    },
    {
      "cell_type": "code",
      "execution_count": null,
      "metadata": {},
      "outputs": [],
      "source": []
    }
  ],
  "metadata": {
    "colab": {
      "authorship_tag": "ABX9TyNzcS4vPmPjCblXOU+zpcPT",
      "include_colab_link": true,
      "provenance": []
    },
    "kernelspec": {
      "display_name": "Python 3",
      "name": "python3"
    },
    "language_info": {
      "codemirror_mode": {
        "name": "ipython",
        "version": 3
      },
      "file_extension": ".py",
      "mimetype": "text/x-python",
      "name": "python",
      "nbconvert_exporter": "python",
      "pygments_lexer": "ipython3",
      "version": "3.10.4"
    }
  },
  "nbformat": 4,
  "nbformat_minor": 0
}
